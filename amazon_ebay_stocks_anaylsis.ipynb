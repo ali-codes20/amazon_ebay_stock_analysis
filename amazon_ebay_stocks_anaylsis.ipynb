{
 "cells": [
  {
   "cell_type": "code",
   "execution_count": 1,
   "source": [
    "from math import log, sqrt\n",
    "\n",
    "\n",
    "# Calculate Log Return\n",
    "def calculate_log_return(start_price, end_price):\n",
    "  return log(end_price / start_price)\n",
    "\n",
    "\n",
    "# Calculate Variance\n",
    "def calculate_variance(dataset):\n",
    "  mean = sum(dataset) / len(dataset)\n",
    "\n",
    "  numerator = 0\n",
    "\n",
    "  for data in dataset:\n",
    "    numerator += (data - mean) ** 2\n",
    "\n",
    "  return numerator / len(dataset)\n",
    "\n",
    "\n",
    "# Calculate Standard Deviation\n",
    "def calculate_stddev(dataset):\n",
    "  variance = calculate_variance(dataset)\n",
    "  return sqrt(variance)\n",
    "\n",
    "\n",
    "# Calculate Correlation Coefficient\n",
    "def calculate_correlation(set_x, set_y):\n",
    "  sum_x = sum(set_x)\n",
    "  sum_y = sum(set_y)\n",
    "\n",
    "  sum_x2 = sum([x ** 2 for x in set_x])\n",
    "  sum_y2 = sum([y ** 2 for y in set_y])\n",
    "\n",
    "  sum_xy = sum([x * y for x, y in zip(set_x, set_y)])\n",
    "\n",
    "  n = len(set_x)\n",
    "\n",
    "  numerator = n * sum_xy - sum_x * sum_y\n",
    "  denominator = sqrt((n * sum_x2 - sum_x ** 2) * (n * sum_y2 - sum_y ** 2))\n",
    "\n",
    "  return numerator / denominator\n"
   ],
   "outputs": [],
   "metadata": {}
  },
  {
   "cell_type": "code",
   "execution_count": 2,
   "source": [
    "import numpy as np\n",
    "\n",
    "def display_as_percentage(val):\n",
    "  return '{:.1f}%'.format(val * 100)\n",
    "\n",
    "amazon_prices = [1699.8, 1777.44, 2012.71, 2003.0, 1598.01, 1690.17, 1501.97, 1718.73, 1639.83, 1780.75, 1926.52, 1775.07, 1893.63]\n",
    "ebay_prices = [35.98, 33.2, 34.35, 32.77, 28.81, 29.62, 27.86, 33.39, 37.01, 37.0, 38.6, 35.93, 39.5]\n",
    "\n",
    "\n",
    "def get_returns(prices):\n",
    "  returns = []\n",
    "  for i in range(len(prices)-1):\n",
    "    start_price = prices [i]\n",
    "    end_price = prices [i + 1]\n",
    "    log_return = calculate_log_return(start_price , end_price)\n",
    "    returns.append(log_return)\n",
    "  return returns\n",
    "amazon_returns = get_returns(amazon_prices)\n",
    "ebay_returns = get_returns(ebay_prices)  \n",
    "\n",
    "\n",
    "amazon_monthly_returns_percentage = [display_as_percentage(value) for value in amazon_returns] \n",
    "print('The historical monthly rates of return for Amazon stocks  over the course of a year (June 2018 to June 2019)are:', ', '.join(amazon_monthly_returns_percentage))\n",
    "\n",
    "\n",
    "ebay_monthly_returns_percentage = [display_as_percentage(value) for value in ebay_returns] \n",
    "print('The historical monthly rates of return for eBay stocks  over the course of a year (June 2018 to June 2019)  are:', ', '.join(ebay_monthly_returns_percentage))\n",
    "\n",
    "\n",
    "amazon_annual_returns = sum(amazon_returns)\n",
    "ebay_annual_returns = sum(ebay_returns)\n",
    "\n",
    "print(\"Amazon annual return is:\", display_as_percentage(amazon_annual_returns))\n",
    "\n",
    "print(\"eBay annual return is:\", display_as_percentage(ebay_annual_returns))\n",
    "\n",
    "amazon_monthly_variance = calculate_variance(amazon_returns)\n",
    "print(\"Amazon monthly variance is :\", amazon_monthly_variance)\n",
    "#am_mon_var = np.var(amazon_returns)\n",
    "#print(am_mon_var)\n",
    "\n",
    "ebay_monthly_variance = calculate_variance(ebay_returns)\n",
    "print(\"eBay monthly variance is :\", ebay_monthly_variance)\n",
    "#The variance for Amazon monthly returns is slightly higher than eBay. A greater variance generally signifies a riskier investment\n",
    "\n",
    "amazon_monthly_std = calculate_stddev(amazon_returns)\n",
    "print('The standard deviation of Amazon stock monthly return is', display_as_percentage(amazon_monthly_std))\n",
    "\n",
    "ebay_monthly_std = calculate_stddev(ebay_returns)\n",
    "print('The standard deviation of eBay stock monthly return is', display_as_percentage(ebay_monthly_std))\n",
    "#This shows that investing in Amazon stock is likely riskier\n",
    "\n",
    "\n",
    "corre_amazon_ebay = calculate_correlation(amazon_returns, ebay_returns)\n",
    "print(\"Coorelation between Amazon and eBay stocks are:\", corre_amazon_ebay)"
   ],
   "outputs": [
    {
     "output_type": "stream",
     "name": "stdout",
     "text": [
      "The historical monthly rates of return for Amazon stocks  over the course of a year (June 2018 to June 2019)are: 4.5%, 12.4%, -0.5%, -22.6%, 5.6%, -11.8%, 13.5%, -4.7%, 8.2%, 7.9%, -8.2%, 6.5%\n",
      "The historical monthly rates of return for eBay stocks  over the course of a year (June 2018 to June 2019)  are: -8.0%, 3.4%, -4.7%, -12.9%, 2.8%, -6.1%, 18.1%, 10.3%, -0.0%, 4.2%, -7.2%, 9.5%\n",
      "Amazon annual return is: 10.8%\n",
      "eBay annual return is: 9.3%\n",
      "Amazon monthly variance is : 0.010738060556609724\n",
      "eBay monthly variance is : 0.007459046435081462\n",
      "The standard deviation of Amazon stock monthly return is 10.4%\n",
      "The standard deviation of eBay stock monthly return is 8.6%\n",
      "Coorelation between Amazon and eBay stocks are: 0.6776978564073072\n"
     ]
    }
   ],
   "metadata": {}
  },
  {
   "cell_type": "markdown",
   "source": [
    "The variance for Amazon monthly returns is slightly higher than eBay. A greater variance generally signifies a riskier investment"
   ],
   "metadata": {}
  },
  {
   "cell_type": "markdown",
   "source": [
    "This shows that investing in Amazon stock is likely riskier"
   ],
   "metadata": {}
  },
  {
   "cell_type": "markdown",
   "source": [
    "Stocks have weak positive correlation"
   ],
   "metadata": {}
  }
 ],
 "metadata": {
  "orig_nbformat": 4,
  "language_info": {
   "name": "python"
  }
 },
 "nbformat": 4,
 "nbformat_minor": 2
}